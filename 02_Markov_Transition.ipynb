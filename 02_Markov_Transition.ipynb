{
 "cells": [
  {
   "cell_type": "markdown",
   "id": "1827045a-26c8-4969-9d04-a765b7c5e8fa",
   "metadata": {},
   "source": [
    "## **Building Markov Transition Matrix**"
   ]
  },
  {
   "cell_type": "markdown",
   "id": "b3ca2123-5303-4473-a2c1-25f10b097e32",
   "metadata": {},
   "source": [
    "### REFERENCES:\n",
    "1. Markov Process: https://en.wikipedia.org/wiki/Markov_chain\n",
    "2. Markov Transition Matrices: https://math.libretexts.org/Bookshelves/Applied_Mathematics/Applied_Finite_Mathematics_(Sekhon_and_Bloom)/10%3A_Markov_Chains/10.01%3A_Introduction_to_Markov_Chains"
   ]
  },
  {
   "cell_type": "markdown",
   "id": "7ce7b6bd-7909-4bb9-babf-23873b6167bd",
   "metadata": {},
   "source": [
    "### **THEORY**:\n",
    "1. **Markov Process:**\n",
    "   1. It is defined as a stochastic (random) process indexed by time which describes a sequence of events in which the next state only depends on the current state.\n",
    "   2. This Markov property (memorylessness property) is the reason for its wide applications as the computational time is drastically reduced.\n",
    "   3. The complexity of theory of Markov processes depends greatly on whether the time space T is N (discrete time) or [0, inf) (continuous time) and whether the state space is discrete (countable, with all subsets measurable) or a more general topological space. Based on these differences, Markov processes are classified further into four types.\n",
    "   4. When the state space is discrete, Markov processes are known as **Markov Chains**.\n",
    "\n",
    "2. **Markov Transition Matrices**:\n",
    "   1. When the example that we are dealing with is simple and involve lesser number of states, we can use a directed graph to represent the transitions, but if we had an example with 10 or 20, or more states between which transitions are happening, the diagram would become so complicated that it would be difficult to understand the information in the diagram.\n",
    "   2. That's where the **transition matrix** come into play. Each row in the matrix represents an initial state. Each column represents a terminal state. The transition matrix is a square matrix NxN where N is the number of states.\n",
    "   3. Properties of transition matrices:\n",
    "      1. tij represents the entry in row i and column j\n",
    "      2. tij = the probability of moving from state represented by row i to the state represented by row j in a single transition.\n",
    "      3. tij is a **conditional probability** which we can write as tij = P(next state is the state in column j | current state is the state in row i)\n",
    "      4. Each row adds to 1.\n",
    "      5. All entries are between 0 and 1, inclusive because they are probablities.\n",
    "      6. The transition matrix represents change over one transition period."
   ]
  },
  {
   "cell_type": "markdown",
   "id": "9bb2f97c-f5dc-4bbd-bfb7-fdf740cba894",
   "metadata": {},
   "source": [
    "### **EXAMPLE SCENARIO**:\n",
    "Let's take a simple example, for which we will be describing the process and constructing the transition matrix:\n",
    "Suppose Ana's college is a bit far away, so she has three options to go to college daily: by E-rickshaw, by Cab, and by campus bus.\n",
    "So, here total states are 3 in number: E-rick, Cab, Bus. The time index of the transition matrix will be 1 day.\n",
    "Each day, the mode of transportation that she will be using depends on the mode she took on previous day only as she has to save money but wants comfort as well.\n",
    "So, she calculated the parameters for ensuring both her requirements:\n",
    "1. If she took **bus** today, 50% chance is that she will take **cab** tomorrow, 30% for **E-rick** and 20% for **bus**.\n",
    "2. If she took **cab** today, 80% chance is that she will take **bus** tomorrow, 15% for **E-rick** and 5% for **cab**.\n",
    "3. If she took **E-rick** today, 40% chance is that she will take **cab** tomorrow, 30% for **E-rick** and 30% for **bus**.\n",
    "\n",
    "The transition matrix for the above scenario is respresented below:\n"
   ]
  },
  {
   "cell_type": "code",
   "execution_count": 9,
   "id": "38f652da-6181-4cc4-86fa-e39d70662a0b",
   "metadata": {},
   "outputs": [],
   "source": [
    "# Constructing the transition matrix manually\n",
    "transition_matrix_manual = [[0.5, 0.3, 0.2],\n",
    "                           [0.8, 0.15, 0.05],\n",
    "                           [0.4, 0.3, 0.3]]"
   ]
  },
  {
   "cell_type": "code",
   "execution_count": 4,
   "id": "ff34a4f6-98a8-4ef1-a1ce-9cdfd3f760fe",
   "metadata": {},
   "outputs": [
    {
     "name": "stdout",
     "output_type": "stream",
     "text": [
      "[0, 1, 2, 2, 1, 0, 0, 0, 2, 0, 2, 1, 0, 1, 1, 2, 0, 0, 1, 0, 1, 0, 2, 2, 1, 2, 1]\n"
     ]
    }
   ],
   "source": [
    "# Now let's consider a sequence for which we will be building the transition matrix\n",
    "# It may or may not align with the above probabilities\n",
    "seq_of_observations = ['bus', 'cab', 'erick', 'erick', 'cab', 'bus', 'bus', 'bus', 'erick', 'bus', 'erick', 'cab', 'bus', 'cab', 'cab', 'erick', 'bus', 'bus', 'cab', 'bus', 'cab', 'bus', 'erick', 'erick', 'cab', 'erick', 'cab']\n",
    "# Now we have to calculate these 6 things: cab|bus, cab|cab, cab|erick, erick|cab, erick|erick, erick|bus, bus|cab, bus|bus, bus|erick..\n",
    "# Let's number the states as bus:0, cab:1, erick:2\n",
    "# convert seq_of_observations into number array\n",
    "converted_seq = []\n",
    "for data in seq_of_observations:\n",
    "    if(data == 'bus'):\n",
    "        converted_seq.append(0)\n",
    "    elif data == 'cab':\n",
    "        converted_seq.append(1)\n",
    "    else:\n",
    "        converted_seq.append(2)\n",
    "print(converted_seq)\n",
    "        "
   ]
  },
  {
   "cell_type": "code",
   "execution_count": 5,
   "id": "cb773654-02c5-4eab-998f-faf7b6fd4b9d",
   "metadata": {},
   "outputs": [],
   "source": [
    "import numpy as np\n",
    "\n",
    "def transition_matrix_first_order(sequence):\n",
    "    S = np.zeros((3, 3), dtype=np.float64)\n",
    "\n",
    "    for (i, j) in zip(sequence, sequence[1:]):\n",
    "        S[i, j] += 1  # Count the transition from i to j\n",
    "\n",
    "    # Normalize each row to get probabilities\n",
    "    row_sums = S.sum(axis=1, keepdims=True)\n",
    "    with np.errstate(invalid='ignore', divide='ignore'):\n",
    "        S = np.divide(S, row_sums, out=np.zeros_like(S), where=row_sums!=0)\n",
    "    \n",
    "    return S\n"
   ]
  },
  {
   "cell_type": "code",
   "execution_count": 6,
   "id": "ed87fe55-edf6-4299-9a50-0ce2ad973331",
   "metadata": {},
   "outputs": [
    {
     "name": "stdout",
     "output_type": "stream",
     "text": [
      "[[0.3   0.4   0.3  ]\n",
      " [0.5   0.125 0.375]\n",
      " [0.25  0.5   0.25 ]]\n"
     ]
    }
   ],
   "source": [
    "transition_matrix = transition_matrix_first_order(converted_seq)\n",
    "print(transition_matrix)"
   ]
  },
  {
   "cell_type": "code",
   "execution_count": null,
   "id": "9a395090-4a23-48cb-a865-65132bbea328",
   "metadata": {},
   "outputs": [],
   "source": []
  }
 ],
 "metadata": {
  "kernelspec": {
   "display_name": "Python 3 (ipykernel)",
   "language": "python",
   "name": "python3"
  },
  "language_info": {
   "codemirror_mode": {
    "name": "ipython",
    "version": 3
   },
   "file_extension": ".py",
   "mimetype": "text/x-python",
   "name": "python",
   "nbconvert_exporter": "python",
   "pygments_lexer": "ipython3",
   "version": "3.12.4"
  }
 },
 "nbformat": 4,
 "nbformat_minor": 5
}
