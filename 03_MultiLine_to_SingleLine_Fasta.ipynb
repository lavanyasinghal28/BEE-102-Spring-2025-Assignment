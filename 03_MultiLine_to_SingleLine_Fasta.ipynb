{
 "cells": [
  {
   "cell_type": "markdown",
   "id": "3a218586-40eb-42b0-ad1c-fdc25659b09f",
   "metadata": {},
   "source": [
    "## **Multi-line sequence FASTA file to single-line FASTA file**:"
   ]
  },
  {
   "cell_type": "markdown",
   "id": "6aa1ef1a-44a0-4d60-8cce-200cdc51f5f9",
   "metadata": {},
   "source": [
    "### REFERENCES:\n",
    "1. https://omicstutorials.com/step-by-step-guide-convert-multiline-fasta-to-single-line-fasta/"
   ]
  },
  {
   "cell_type": "markdown",
   "id": "063bdc6b-5fab-409b-8b4a-eb7e35f7a21d",
   "metadata": {},
   "source": [
    "### THEORY:\n",
    "1. Sometimes, it's necessary to convert multiline FASTA sequences to a single-line format to meet specific software requirements or simplify manual inspection.\n",
    "2. Basic understanding of the FASTA format:\n",
    "   1. A header line starting with > followed by sequence description.\n",
    "   2. Sequence lines spanning multiple lines.\n",
    "   3. Our input file: multiline_input.fasta :\n",
    "      \n",
    "      `>`1\n",
    "      \n",
    "      // some sequence\n",
    "      \n",
    "      `>`2\n",
    "      \n",
    "      // some sequence\n",
    "      \n",
    "       ... and so on\n",
    "3. Let's now see the code for the conversion and save it in **output_q3.fasta** file in the main directory."
   ]
  },
  {
   "cell_type": "code",
   "execution_count": 12,
   "id": "b3f57a5f-9d48-4e92-93d2-398d2588822c",
   "metadata": {},
   "outputs": [],
   "source": [
    "# No need for this..\n",
    "# !pip install biopython"
   ]
  },
  {
   "cell_type": "code",
   "execution_count": 2,
   "id": "a6e72a8d-9c7a-44d4-af68-fb05cd97c75e",
   "metadata": {},
   "outputs": [],
   "source": [
    "# # input_fasta = open('multiline_input.fasta')\n",
    "# with open('multiline_input.fasta') as f_input, open('output_q3.fasta', 'w') as f_output:\n",
    "#     block = []\n",
    "\n",
    "#     for line in f_input:\n",
    "#         if line.startswith('>'):\n",
    "#             if block:\n",
    "#                 f_output.write(''.join(block) + '\\n')\n",
    "#                 block = []\n",
    "#             f_output.write(line)\n",
    "#         else:\n",
    "#             block.append(line.strip())\n",
    "\n",
    "#     if block:\n",
    "#         f_output.write(''.join(block) + '\\n')\n",
    "# The above solution uses a list, but that should be avoided, hence next solution is proposed with a flag counter that will keep track whether we are in middle of writing a sequence or not\n",
    "\n",
    "\n",
    "with open('multiline_input.fasta') as f_input, open('output_q3.fasta', 'w') as f_output:\n",
    "    writing_sequence = False \n",
    "\n",
    "    for line in f_input:\n",
    "        line = line.rstrip()\n",
    "        if line.startswith('>'):\n",
    "            if writing_sequence:\n",
    "                f_output.write('\\n')\n",
    "            f_output.write(line + '\\n')\n",
    "            writing_sequence = True\n",
    "        else:\n",
    "            f_output.write(line)\n",
    "\n",
    "    if writing_sequence:\n",
    "        f_output.write('\\n')\n"
   ]
  },
  {
   "cell_type": "code",
   "execution_count": null,
   "id": "b9415f99-bdd1-45ad-b1d2-815bfb062e40",
   "metadata": {},
   "outputs": [],
   "source": []
  }
 ],
 "metadata": {
  "kernelspec": {
   "display_name": "Python 3 (ipykernel)",
   "language": "python",
   "name": "python3"
  },
  "language_info": {
   "codemirror_mode": {
    "name": "ipython",
    "version": 3
   },
   "file_extension": ".py",
   "mimetype": "text/x-python",
   "name": "python",
   "nbconvert_exporter": "python",
   "pygments_lexer": "ipython3",
   "version": "3.12.4"
  }
 },
 "nbformat": 4,
 "nbformat_minor": 5
}
