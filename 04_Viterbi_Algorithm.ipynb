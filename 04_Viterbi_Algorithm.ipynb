{
 "cells": [
  {
   "cell_type": "markdown",
   "id": "1d44b919-44f3-47d2-9e43-5512a442b3e6",
   "metadata": {},
   "source": [
    "### REFERENCES:\n",
    "1. For understanding purpose: https://www.geeksforgeeks.org/viterbi-algorithm-for-hidden-markov-models-hmms/"
   ]
  },
  {
   "cell_type": "markdown",
   "id": "4b1097d5-62c6-43ff-a303-f5d5443f4159",
   "metadata": {},
   "source": [
    "### THEORY:\n",
    "1. Used to find the most probable sequence of hidden states in a Hidden Markov Model (HMM).\n",
    "2. Used in speech recognition, natural language processing and bioinformatics.\n",
    "3. Hidden Markov Models (HMMs):\n",
    "   1. It is a statistical model that represents systems with hidden states and observable events. It consists of:\n",
    "      1. States: Hidden conditions that are not directly observable.\n",
    "      2. Observations: Observable events infulenced by the hidden states.\n",
    "      3. Transition Probabilities: Probabilities of moving from one state to another.\n",
    "      4. Emission Probabilities: Probabilities of observing a particular event given a state.\n",
    "      5. Initial State Probabilties: Probabilities of the system starting in a particular state.\n",
    "4. Andrew Viterbi, who first proposed the algorithm in 1967, is honored by the algorithm's name.\n",
    "5. The most likely sequence of states is computed efficiently by the Viterbi method, which divided the issue into smaller subproblems and solves them recursively.\n",
    "6. The Viterbi algorithm operates by iteratively computing the highest probability paths to each state at each time step, storing these probabilities, and backtracking to determine the most probable sequence of hidden states.\n",
    "\n",
    "**Now let's work on the code**:"
   ]
  },
  {
   "cell_type": "code",
   "execution_count": 37,
   "id": "0931339d-7ec7-49f7-a985-f867f603aaf3",
   "metadata": {},
   "outputs": [],
   "source": [
    "# Defining HMM Parameters:\n",
    "# 1. States -> E (exon) and I (intron)\n",
    "import numpy as np\n",
    "states = ['E', '5', 'I']\n",
    "nucleotides = ['A', 'C', 'G', 'T']\n",
    "# 2. Initial Probabilities: Probability of starting with an E or an I\n",
    "# Considering equal probabilities for both the states in the starting\n",
    "initial_probabilities = {'E': 1.0, '5': 0.0, 'I': 0.0}\n",
    "# 3. Transition matrix: Probabilities of moving from one state to another\n",
    "transition_probabilities = {\n",
    "    'Start': {'E':1.0, '5': 0, 'I': 0.0, 'End':0.0},\n",
    "    'E': {'E': 0.9, '5': 0.1 , 'I': 0.0, 'End': 0.0},\n",
    "    '5': {'E': 0.0, '5': 0.0 , 'I': 1.0, 'End': 0.0},\n",
    "    'I': {'E': 0.0, '5': 0.0 , 'I': 0.9, 'End': 0.1}\n",
    "}\n",
    "# 4. Emission probabilities: Probability of emitting nucleotides (A, C, G, T) in each state\n",
    "emission_probs = {\n",
    "    'E': {'A': 0.25, 'C': 0.25, 'G': 0.25, 'T': 0.25},\n",
    "    '5': {'A': 0.05, 'C': 0.00, 'G': 0.95, 'T': 0.00},\n",
    "    'I': {'A': 0.4, 'C': 0.1, 'G': 0.1, 'T': 0.4},\n",
    "}"
   ]
  },
  {
   "cell_type": "code",
   "execution_count": 41,
   "id": "d5ece7e5-1b4a-47ad-b678-6c3f0ea3f365",
   "metadata": {},
   "outputs": [],
   "source": [
    "import math\n",
    "def log(x):\n",
    "    if(x == 0):\n",
    "        return -math.inf\n",
    "    else:\n",
    "        return math.log(x)"
   ]
  },
  {
   "cell_type": "code",
   "execution_count": 42,
   "id": "9d8d9931-fddc-446e-837a-640ea99f1073",
   "metadata": {},
   "outputs": [],
   "source": [
    "# Log probability of given path: This function will be used to compute the log probability of a state path emitting an observed sequence. (base 2)\n",
    "def get_log_prob_of_a_given_path(state_path, observed_sequence):\n",
    "    log_prob = 0.0\n",
    "    if len(state_path)!=len(observed_sequence):\n",
    "        raise ValueError(\"The length of state path and the observed sequence must be same\")\n",
    "    prev_state = 'Start'\n",
    "    # log_prob += log(initial_probabilities[prev_state])\n",
    "    # log_prob += log(emission_probs[prev_state][observed_sequence[0]])\n",
    "\n",
    "    for i in range(len(observed_sequence)):\n",
    "        current_state = state_path[i]\n",
    "        observed_state = observed_sequence[i]\n",
    "        log_prob += log(transition_probabilities[prev_state][current_state])+log(emission_probs[current_state][observed_state])\n",
    "        prev_state = current_state\n",
    "    if(prev_state == 'I'):\n",
    "        log_prob += log(transition_probabilities[prev_state]['End'])\n",
    "\n",
    "    return log_prob"
   ]
  },
  {
   "cell_type": "code",
   "execution_count": 43,
   "id": "03dbb50d-f9d0-43d0-a29b-0403147ccb9d",
   "metadata": {},
   "outputs": [
    {
     "name": "stdout",
     "output_type": "stream",
     "text": [
      "-41.21967768602254\n"
     ]
    }
   ],
   "source": [
    "# state_path = \"EEEEEEEEEEEEEEEEEEE5IIIIIII\"\n",
    "state_path = \"EEEEEEEEEEEEEEEEEE5IIIIIII\"\n",
    "observed_sequence = \"CTTCATGTGAAAGCAGACGTAAGTCA\"\n",
    "ans = get_log_prob_of_a_given_path(state_path, observed_sequence)\n",
    "\n",
    "print(ans)"
   ]
  },
  {
   "cell_type": "code",
   "execution_count": 51,
   "id": "c659aee6-4ba2-4c2a-ac50-fea3bf48cc59",
   "metadata": {},
   "outputs": [],
   "source": [
    "# Viterbi Algorithm Implementation\n",
    "def viterbiAlgo(observed_sequence):\n",
    "    num_states = len(states)\n",
    "    num_observations = len(observed_sequence)\n",
    "    viterbi_matrix = np.full((num_states, num_observations), -np.inf)\n",
    "    # backpointers will used for backtracking (retracing the path of maxima)\n",
    "    backpointers = np.zeros((num_states, num_observations), dtype=int)\n",
    "    # Convert to state indices\n",
    "    state_to_index = {s: i for i, s in enumerate(states)}\n",
    "\n",
    "    # Initializing the DP table\n",
    "    for i, j in enumerate(states):\n",
    "        viterbi_matrix[i, 0] = log(initial_probabilities[j]) + \\\n",
    "        log(emission_probs[j][observed_sequence[0]])\n",
    "        # Recursive part\n",
    "    for k in range(1, num_observations):\n",
    "        for curr_index, current_state in enumerate(states):\n",
    "            max_log_prob = -np.inf\n",
    "            best_prev_idx = 0\n",
    "            for prev_idx, prev_state in enumerate(states):\n",
    "                log_prob = viterbi_matrix[prev_idx, k-1] + \\\n",
    "                log(transition_probabilities[prev_state][current_state])\n",
    "                if log_prob > max_log_prob:\n",
    "                    max_log_prob = log_prob\n",
    "                    best_prev_idx = prev_idx\n",
    "            viterbi_matrix[curr_index, k] = max_log_prob + \\\n",
    "            log(emission_probs[current_state][observed_sequence[k]])\n",
    "            backpointers[curr_index, k] = best_prev_idx\n",
    "\n",
    "    bestPath = []\n",
    "    bestFinalIndex = np.argmax(viterbi_matrix[:, -1])\n",
    "    bestPath.append(states[bestFinalIndex])\n",
    "\n",
    "    for i in range(num_observations-1, 0, -1):\n",
    "        bestFinalIndex = backpointers[bestFinalIndex, i]\n",
    "        bestPath.insert(0, states[bestFinalIndex])\n",
    "    return bestPath, np.max(viterbi_matrix[:, -1])"
   ]
  },
  {
   "cell_type": "code",
   "execution_count": 52,
   "id": "43bace73-d517-4573-ae65-86a0d8f43f1d",
   "metadata": {},
   "outputs": [
    {
     "name": "stdout",
     "output_type": "stream",
     "text": [
      "Most probable path is ['E', 'E', 'E', 'E', 'E', 'E', 'E', 'E', 'E', 'E', 'E', 'E', 'E', 'E', 'E', 'E', 'E', 'E', 'E', 'E', 'E', 'E', 'E', 'E', 'E', 'E'] with probability -38.677666280562796\n"
     ]
    }
   ],
   "source": [
    "observed_sequence = \"CTTCATGTGAAAGCAGACGTAAGTCA\"\n",
    "best_path, log_prob = viterbiAlgo(observed_sequence)\n",
    "print(f\"Most probable path is {best_path} with probability {log_prob}\" )"
   ]
  },
  {
   "cell_type": "code",
   "execution_count": null,
   "id": "eaecc5b4-2a9b-42c7-8c6f-ee9b44ed6e40",
   "metadata": {},
   "outputs": [],
   "source": []
  }
 ],
 "metadata": {
  "kernelspec": {
   "display_name": "Python 3 (ipykernel)",
   "language": "python",
   "name": "python3"
  },
  "language_info": {
   "codemirror_mode": {
    "name": "ipython",
    "version": 3
   },
   "file_extension": ".py",
   "mimetype": "text/x-python",
   "name": "python",
   "nbconvert_exporter": "python",
   "pygments_lexer": "ipython3",
   "version": "3.12.4"
  }
 },
 "nbformat": 4,
 "nbformat_minor": 5
}
